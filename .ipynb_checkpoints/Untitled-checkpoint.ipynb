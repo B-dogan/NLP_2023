{
 "cells": [
  {
   "cell_type": "markdown",
   "id": "4c5b0f12",
   "metadata": {},
   "source": [
    "## Reminding"
   ]
  },
  {
   "cell_type": "code",
   "execution_count": 1,
   "id": "e9a0358e",
   "metadata": {},
   "outputs": [],
   "source": [
    "text = \"Remainding String\""
   ]
  },
  {
   "cell_type": "code",
   "execution_count": 2,
   "id": "da7894d7",
   "metadata": {},
   "outputs": [
    {
     "data": {
      "text/plain": [
       "'Remainding StringRemainding String'"
      ]
     },
     "execution_count": 2,
     "metadata": {},
     "output_type": "execute_result"
    }
   ],
   "source": [
    "text + text"
   ]
  },
  {
   "cell_type": "code",
   "execution_count": 3,
   "id": "118ab83e",
   "metadata": {},
   "outputs": [
    {
     "data": {
      "text/plain": [
       "'Remainding StringRemainding String'"
      ]
     },
     "execution_count": 3,
     "metadata": {},
     "output_type": "execute_result"
    }
   ],
   "source": [
    "text *2"
   ]
  },
  {
   "cell_type": "code",
   "execution_count": 4,
   "id": "5062989f",
   "metadata": {},
   "outputs": [
    {
     "data": {
      "text/plain": [
       "'Remainding Stringtrusted'"
      ]
     },
     "execution_count": 4,
     "metadata": {},
     "output_type": "execute_result"
    }
   ],
   "source": [
    "text + \"trusted\""
   ]
  },
  {
   "cell_type": "code",
   "execution_count": 6,
   "id": "40eee43d",
   "metadata": {},
   "outputs": [
    {
     "data": {
      "text/plain": [
       "'Remainding String Trusted'"
      ]
     },
     "execution_count": 6,
     "metadata": {},
     "output_type": "execute_result"
    }
   ],
   "source": [
    "text + \" Trusted\""
   ]
  },
  {
   "cell_type": "code",
   "execution_count": 7,
   "id": "718090aa",
   "metadata": {},
   "outputs": [],
   "source": [
    "text = text + \" Trusted\""
   ]
  },
  {
   "cell_type": "code",
   "execution_count": 8,
   "id": "2d7d39ff",
   "metadata": {},
   "outputs": [
    {
     "data": {
      "text/plain": [
       "'Remainding String Trusted'"
      ]
     },
     "execution_count": 8,
     "metadata": {},
     "output_type": "execute_result"
    }
   ],
   "source": [
    "text"
   ]
  },
  {
   "cell_type": "code",
   "execution_count": 9,
   "id": "eea0c8a8",
   "metadata": {},
   "outputs": [
    {
     "data": {
      "text/plain": [
       "25"
      ]
     },
     "execution_count": 9,
     "metadata": {},
     "output_type": "execute_result"
    }
   ],
   "source": [
    "len(text)"
   ]
  },
  {
   "cell_type": "code",
   "execution_count": 17,
   "id": "e8da6215",
   "metadata": {},
   "outputs": [
    {
     "data": {
      "text/plain": [
       "False"
      ]
     },
     "execution_count": 17,
     "metadata": {},
     "output_type": "execute_result"
    }
   ],
   "source": [
    "text.isnumeric()"
   ]
  },
  {
   "cell_type": "code",
   "execution_count": 18,
   "id": "300bd268",
   "metadata": {},
   "outputs": [
    {
     "data": {
      "text/plain": [
       "'REMAINDING STRING TRUSTED'"
      ]
     },
     "execution_count": 18,
     "metadata": {},
     "output_type": "execute_result"
    }
   ],
   "source": [
    "text.upper()"
   ]
  },
  {
   "cell_type": "code",
   "execution_count": 19,
   "id": "3902baa4",
   "metadata": {},
   "outputs": [
    {
     "data": {
      "text/plain": [
       "'Remainding string trusted'"
      ]
     },
     "execution_count": 19,
     "metadata": {},
     "output_type": "execute_result"
    }
   ],
   "source": [
    "text.capitalize()"
   ]
  },
  {
   "cell_type": "code",
   "execution_count": 21,
   "id": "7ee16132",
   "metadata": {},
   "outputs": [
    {
     "data": {
      "text/plain": [
       "'wemainding String Trusted'"
      ]
     },
     "execution_count": 21,
     "metadata": {},
     "output_type": "execute_result"
    }
   ],
   "source": [
    "text.replace(\"R\",\"w\")"
   ]
  },
  {
   "cell_type": "code",
   "execution_count": 22,
   "id": "83521b11",
   "metadata": {},
   "outputs": [
    {
     "data": {
      "text/plain": [
       "'Remainding String Trusted'"
      ]
     },
     "execution_count": 22,
     "metadata": {},
     "output_type": "execute_result"
    }
   ],
   "source": [
    "text.title()"
   ]
  },
  {
   "cell_type": "code",
   "execution_count": 23,
   "id": "8c719ce4",
   "metadata": {},
   "outputs": [
    {
     "data": {
      "text/plain": [
       "'remainding string trusted'"
      ]
     },
     "execution_count": 23,
     "metadata": {},
     "output_type": "execute_result"
    }
   ],
   "source": [
    "text.lower()"
   ]
  },
  {
   "cell_type": "code",
   "execution_count": 24,
   "id": "75a83aa7",
   "metadata": {},
   "outputs": [
    {
     "data": {
      "text/plain": [
       "'Remainding String Trusted'"
      ]
     },
     "execution_count": 24,
     "metadata": {},
     "output_type": "execute_result"
    }
   ],
   "source": [
    "text"
   ]
  },
  {
   "cell_type": "code",
   "execution_count": 25,
   "id": "855c4f22",
   "metadata": {},
   "outputs": [
    {
     "data": {
      "text/plain": [
       "'rEMAINDING sTRING tRUSTED'"
      ]
     },
     "execution_count": 25,
     "metadata": {},
     "output_type": "execute_result"
    }
   ],
   "source": [
    "text.swapcase()"
   ]
  },
  {
   "cell_type": "code",
   "execution_count": 26,
   "id": "e967a596",
   "metadata": {},
   "outputs": [
    {
     "data": {
      "text/plain": [
       "'RLmainding String TrustLd'"
      ]
     },
     "execution_count": 26,
     "metadata": {},
     "output_type": "execute_result"
    }
   ],
   "source": [
    "text.replace(\"e\",\"L\")"
   ]
  },
  {
   "cell_type": "code",
   "execution_count": 27,
   "id": "21d556c8",
   "metadata": {},
   "outputs": [
    {
     "data": {
      "text/plain": [
       "'Remainding sTrİng Trusted'"
      ]
     },
     "execution_count": 27,
     "metadata": {},
     "output_type": "execute_result"
    }
   ],
   "source": [
    "text.replace(\"String\",\"sTrİng\")"
   ]
  },
  {
   "cell_type": "code",
   "execution_count": 28,
   "id": "39a0efef",
   "metadata": {},
   "outputs": [
    {
     "data": {
      "text/plain": [
       "'Remainding String Trusted'"
      ]
     },
     "execution_count": 28,
     "metadata": {},
     "output_type": "execute_result"
    }
   ],
   "source": [
    "text"
   ]
  },
  {
   "cell_type": "code",
   "execution_count": 29,
   "id": "3888b30f",
   "metadata": {},
   "outputs": [
    {
     "data": {
      "text/plain": [
       "True"
      ]
     },
     "execution_count": 29,
     "metadata": {},
     "output_type": "execute_result"
    }
   ],
   "source": [
    "text.startswith(\"Rema\")"
   ]
  },
  {
   "cell_type": "code",
   "execution_count": 30,
   "id": "36217e20",
   "metadata": {},
   "outputs": [
    {
     "data": {
      "text/plain": [
       "0"
      ]
     },
     "execution_count": 30,
     "metadata": {},
     "output_type": "execute_result"
    }
   ],
   "source": [
    "text.find(\"R\")"
   ]
  },
  {
   "cell_type": "code",
   "execution_count": 33,
   "id": "fad2ecfb",
   "metadata": {},
   "outputs": [
    {
     "data": {
      "text/plain": [
       "2"
      ]
     },
     "execution_count": 33,
     "metadata": {},
     "output_type": "execute_result"
    }
   ],
   "source": [
    "text.count(\" \") "
   ]
  },
  {
   "cell_type": "code",
   "execution_count": 34,
   "id": "c5ed0a87",
   "metadata": {},
   "outputs": [
    {
     "data": {
      "text/plain": [
       "False"
      ]
     },
     "execution_count": 34,
     "metadata": {},
     "output_type": "execute_result"
    }
   ],
   "source": [
    "text.isalpha()"
   ]
  },
  {
   "cell_type": "code",
   "execution_count": 35,
   "id": "e7741499",
   "metadata": {},
   "outputs": [
    {
     "data": {
      "text/plain": [
       "True"
      ]
     },
     "execution_count": 35,
     "metadata": {},
     "output_type": "execute_result"
    }
   ],
   "source": [
    "text.replace(\" \",\"\").isalpha()"
   ]
  },
  {
   "cell_type": "code",
   "execution_count": null,
   "id": "c55ce21e",
   "metadata": {},
   "outputs": [],
   "source": [
    "text.translate()"
   ]
  }
 ],
 "metadata": {
  "kernelspec": {
   "display_name": "Python 3 (ipykernel)",
   "language": "python",
   "name": "python3"
  },
  "language_info": {
   "codemirror_mode": {
    "name": "ipython",
    "version": 3
   },
   "file_extension": ".py",
   "mimetype": "text/x-python",
   "name": "python",
   "nbconvert_exporter": "python",
   "pygments_lexer": "ipython3",
   "version": "3.10.9"
  }
 },
 "nbformat": 4,
 "nbformat_minor": 5
}
