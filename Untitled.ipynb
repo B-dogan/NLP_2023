{
 "cells": [
  {
   "cell_type": "markdown",
   "id": "e840aa99",
   "metadata": {},
   "source": [
    "## Reminding"
   ]
  },
  {
   "cell_type": "code",
   "execution_count": 1,
   "id": "4016501e",
   "metadata": {},
   "outputs": [],
   "source": [
    "text = \"Remainding String\""
   ]
  },
  {
   "cell_type": "code",
   "execution_count": 2,
   "id": "69e8c518",
   "metadata": {},
   "outputs": [
    {
     "data": {
      "text/plain": [
       "'Remainding StringRemainding String'"
      ]
     },
     "execution_count": 2,
     "metadata": {},
     "output_type": "execute_result"
    }
   ],
   "source": [
    "text + text"
   ]
  },
  {
   "cell_type": "code",
   "execution_count": 3,
   "id": "6cd5f8a0",
   "metadata": {},
   "outputs": [
    {
     "data": {
      "text/plain": [
       "'Remainding StringRemainding String'"
      ]
     },
     "execution_count": 3,
     "metadata": {},
     "output_type": "execute_result"
    }
   ],
   "source": [
    "text *2"
   ]
  },
  {
   "cell_type": "code",
   "execution_count": 4,
   "id": "100158b6",
   "metadata": {},
   "outputs": [
    {
     "data": {
      "text/plain": [
       "'Remainding Stringtrusted'"
      ]
     },
     "execution_count": 4,
     "metadata": {},
     "output_type": "execute_result"
    }
   ],
   "source": [
    "text + \"trusted\""
   ]
  },
  {
   "cell_type": "code",
   "execution_count": 6,
   "id": "45c89374",
   "metadata": {},
   "outputs": [
    {
     "data": {
      "text/plain": [
       "'Remainding String Trusted'"
      ]
     },
     "execution_count": 6,
     "metadata": {},
     "output_type": "execute_result"
    }
   ],
   "source": [
    "text + \" Trusted\""
   ]
  },
  {
   "cell_type": "code",
   "execution_count": 7,
   "id": "fb86af0b",
   "metadata": {},
   "outputs": [],
   "source": [
    "text = text + \" Trusted\""
   ]
  },
  {
   "cell_type": "code",
   "execution_count": 8,
   "id": "52d03b5e",
   "metadata": {},
   "outputs": [
    {
     "data": {
      "text/plain": [
       "'Remainding String Trusted'"
      ]
     },
     "execution_count": 8,
     "metadata": {},
     "output_type": "execute_result"
    }
   ],
   "source": [
    "text"
   ]
  },
  {
   "cell_type": "code",
   "execution_count": 9,
   "id": "9958b6cd",
   "metadata": {},
   "outputs": [
    {
     "data": {
      "text/plain": [
       "25"
      ]
     },
     "execution_count": 9,
     "metadata": {},
     "output_type": "execute_result"
    }
   ],
   "source": [
    "len(text)"
   ]
  },
  {
   "cell_type": "code",
   "execution_count": 17,
   "id": "82be5795",
   "metadata": {},
   "outputs": [
    {
     "data": {
      "text/plain": [
       "False"
      ]
     },
     "execution_count": 17,
     "metadata": {},
     "output_type": "execute_result"
    }
   ],
   "source": [
    "text.isnumeric()"
   ]
  },
  {
   "cell_type": "code",
   "execution_count": 18,
   "id": "d568ae08",
   "metadata": {},
   "outputs": [
    {
     "data": {
      "text/plain": [
       "'REMAINDING STRING TRUSTED'"
      ]
     },
     "execution_count": 18,
     "metadata": {},
     "output_type": "execute_result"
    }
   ],
   "source": [
    "text.upper()"
   ]
  },
  {
   "cell_type": "code",
   "execution_count": 19,
   "id": "1684ec54",
   "metadata": {},
   "outputs": [
    {
     "data": {
      "text/plain": [
       "'Remainding string trusted'"
      ]
     },
     "execution_count": 19,
     "metadata": {},
     "output_type": "execute_result"
    }
   ],
   "source": [
    "text.capitalize()"
   ]
  },
  {
   "cell_type": "code",
   "execution_count": 21,
   "id": "88d745e8",
   "metadata": {},
   "outputs": [
    {
     "data": {
      "text/plain": [
       "'wemainding String Trusted'"
      ]
     },
     "execution_count": 21,
     "metadata": {},
     "output_type": "execute_result"
    }
   ],
   "source": [
    "text.replace(\"R\",\"w\")"
   ]
  },
  {
   "cell_type": "code",
   "execution_count": 22,
   "id": "d825d51f",
   "metadata": {},
   "outputs": [
    {
     "data": {
      "text/plain": [
       "'Remainding String Trusted'"
      ]
     },
     "execution_count": 22,
     "metadata": {},
     "output_type": "execute_result"
    }
   ],
   "source": [
    "text.title()"
   ]
  },
  {
   "cell_type": "code",
   "execution_count": 23,
   "id": "68861443",
   "metadata": {},
   "outputs": [
    {
     "data": {
      "text/plain": [
       "'remainding string trusted'"
      ]
     },
     "execution_count": 23,
     "metadata": {},
     "output_type": "execute_result"
    }
   ],
   "source": [
    "text.lower()"
   ]
  },
  {
   "cell_type": "code",
   "execution_count": 24,
   "id": "34a67050",
   "metadata": {},
   "outputs": [
    {
     "data": {
      "text/plain": [
       "'Remainding String Trusted'"
      ]
     },
     "execution_count": 24,
     "metadata": {},
     "output_type": "execute_result"
    }
   ],
   "source": [
    "text"
   ]
  },
  {
   "cell_type": "code",
   "execution_count": 25,
   "id": "4182c2c3",
   "metadata": {},
   "outputs": [
    {
     "data": {
      "text/plain": [
       "'rEMAINDING sTRING tRUSTED'"
      ]
     },
     "execution_count": 25,
     "metadata": {},
     "output_type": "execute_result"
    }
   ],
   "source": [
    "text.swapcase()"
   ]
  },
  {
   "cell_type": "code",
   "execution_count": 26,
   "id": "8fa12682",
   "metadata": {},
   "outputs": [
    {
     "data": {
      "text/plain": [
       "'RLmainding String TrustLd'"
      ]
     },
     "execution_count": 26,
     "metadata": {},
     "output_type": "execute_result"
    }
   ],
   "source": [
    "text.replace(\"e\",\"L\")"
   ]
  },
  {
   "cell_type": "code",
   "execution_count": 27,
   "id": "10ce7c04",
   "metadata": {},
   "outputs": [
    {
     "data": {
      "text/plain": [
       "'Remainding sTrİng Trusted'"
      ]
     },
     "execution_count": 27,
     "metadata": {},
     "output_type": "execute_result"
    }
   ],
   "source": [
    "text.replace(\"String\",\"sTrİng\")"
   ]
  },
  {
   "cell_type": "code",
   "execution_count": 28,
   "id": "b646b1f9",
   "metadata": {},
   "outputs": [
    {
     "data": {
      "text/plain": [
       "'Remainding String Trusted'"
      ]
     },
     "execution_count": 28,
     "metadata": {},
     "output_type": "execute_result"
    }
   ],
   "source": [
    "text"
   ]
  },
  {
   "cell_type": "code",
   "execution_count": 29,
   "id": "9e63c0a3",
   "metadata": {},
   "outputs": [
    {
     "data": {
      "text/plain": [
       "True"
      ]
     },
     "execution_count": 29,
     "metadata": {},
     "output_type": "execute_result"
    }
   ],
   "source": [
    "text.startswith(\"Rema\")"
   ]
  },
  {
   "cell_type": "code",
   "execution_count": 30,
   "id": "b319c246",
   "metadata": {},
   "outputs": [
    {
     "data": {
      "text/plain": [
       "0"
      ]
     },
     "execution_count": 30,
     "metadata": {},
     "output_type": "execute_result"
    }
   ],
   "source": [
    "text.find(\"R\")"
   ]
  },
  {
   "cell_type": "code",
   "execution_count": 33,
   "id": "8141028f",
   "metadata": {},
   "outputs": [
    {
     "data": {
      "text/plain": [
       "2"
      ]
     },
     "execution_count": 33,
     "metadata": {},
     "output_type": "execute_result"
    }
   ],
   "source": [
    "text.count(\" \") "
   ]
  },
  {
   "cell_type": "code",
   "execution_count": 34,
   "id": "6c95417e",
   "metadata": {},
   "outputs": [
    {
     "data": {
      "text/plain": [
       "False"
      ]
     },
     "execution_count": 34,
     "metadata": {},
     "output_type": "execute_result"
    }
   ],
   "source": [
    "text.isalpha()"
   ]
  },
  {
   "cell_type": "code",
   "execution_count": null,
   "id": "0563d16e",
   "metadata": {},
   "outputs": [],
   "source": [
    "text.replace(\" \",\"\").isa"
   ]
  }
 ],
 "metadata": {
  "kernelspec": {
   "display_name": "Python 3 (ipykernel)",
   "language": "python",
   "name": "python3"
  },
  "language_info": {
   "codemirror_mode": {
    "name": "ipython",
    "version": 3
   },
   "file_extension": ".py",
   "mimetype": "text/x-python",
   "name": "python",
   "nbconvert_exporter": "python",
   "pygments_lexer": "ipython3",
   "version": "3.10.9"
  }
 },
 "nbformat": 4,
 "nbformat_minor": 5
}
