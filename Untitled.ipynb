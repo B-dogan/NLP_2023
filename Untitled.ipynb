{
 "cells": [
  {
   "cell_type": "markdown",
   "id": "f97241db",
   "metadata": {},
   "source": [
    "## Reminding"
   ]
  },
  {
   "cell_type": "code",
   "execution_count": 1,
   "id": "cbf71725",
   "metadata": {},
   "outputs": [],
   "source": [
    "text = \"Remainding String\""
   ]
  },
  {
   "cell_type": "code",
   "execution_count": 2,
   "id": "d0d067c9",
   "metadata": {},
   "outputs": [
    {
     "data": {
      "text/plain": [
       "'Remainding StringRemainding String'"
      ]
     },
     "execution_count": 2,
     "metadata": {},
     "output_type": "execute_result"
    }
   ],
   "source": [
    "text + text"
   ]
  },
  {
   "cell_type": "code",
   "execution_count": 3,
   "id": "efd5cafa",
   "metadata": {},
   "outputs": [
    {
     "data": {
      "text/plain": [
       "'Remainding StringRemainding String'"
      ]
     },
     "execution_count": 3,
     "metadata": {},
     "output_type": "execute_result"
    }
   ],
   "source": [
    "text *2"
   ]
  },
  {
   "cell_type": "code",
   "execution_count": 4,
   "id": "d75f36cf",
   "metadata": {},
   "outputs": [
    {
     "data": {
      "text/plain": [
       "'Remainding Stringtrusted'"
      ]
     },
     "execution_count": 4,
     "metadata": {},
     "output_type": "execute_result"
    }
   ],
   "source": [
    "text + \"trusted\""
   ]
  },
  {
   "cell_type": "code",
   "execution_count": 6,
   "id": "1f60646f",
   "metadata": {},
   "outputs": [
    {
     "data": {
      "text/plain": [
       "'Remainding String Trusted'"
      ]
     },
     "execution_count": 6,
     "metadata": {},
     "output_type": "execute_result"
    }
   ],
   "source": [
    "text + \" Trusted\""
   ]
  },
  {
   "cell_type": "code",
   "execution_count": 7,
   "id": "61394fb4",
   "metadata": {},
   "outputs": [],
   "source": [
    "text = text + \" Trusted\""
   ]
  },
  {
   "cell_type": "code",
   "execution_count": 8,
   "id": "b50d0b35",
   "metadata": {},
   "outputs": [
    {
     "data": {
      "text/plain": [
       "'Remainding String Trusted'"
      ]
     },
     "execution_count": 8,
     "metadata": {},
     "output_type": "execute_result"
    }
   ],
   "source": [
    "text"
   ]
  },
  {
   "cell_type": "code",
   "execution_count": 9,
   "id": "d62a1eb4",
   "metadata": {},
   "outputs": [
    {
     "data": {
      "text/plain": [
       "25"
      ]
     },
     "execution_count": 9,
     "metadata": {},
     "output_type": "execute_result"
    }
   ],
   "source": [
    "len(text)"
   ]
  },
  {
   "cell_type": "code",
   "execution_count": 17,
   "id": "4911146f",
   "metadata": {},
   "outputs": [
    {
     "data": {
      "text/plain": [
       "False"
      ]
     },
     "execution_count": 17,
     "metadata": {},
     "output_type": "execute_result"
    }
   ],
   "source": [
    "text.isnumeric()"
   ]
  },
  {
   "cell_type": "code",
   "execution_count": 18,
   "id": "38811900",
   "metadata": {},
   "outputs": [
    {
     "data": {
      "text/plain": [
       "'REMAINDING STRING TRUSTED'"
      ]
     },
     "execution_count": 18,
     "metadata": {},
     "output_type": "execute_result"
    }
   ],
   "source": [
    "text.upper()"
   ]
  },
  {
   "cell_type": "code",
   "execution_count": 19,
   "id": "78044d25",
   "metadata": {},
   "outputs": [
    {
     "data": {
      "text/plain": [
       "'Remainding string trusted'"
      ]
     },
     "execution_count": 19,
     "metadata": {},
     "output_type": "execute_result"
    }
   ],
   "source": [
    "text.capitalize()"
   ]
  },
  {
   "cell_type": "code",
   "execution_count": 21,
   "id": "dbd27118",
   "metadata": {},
   "outputs": [
    {
     "data": {
      "text/plain": [
       "'wemainding String Trusted'"
      ]
     },
     "execution_count": 21,
     "metadata": {},
     "output_type": "execute_result"
    }
   ],
   "source": [
    "text.replace(\"R\",\"w\")"
   ]
  },
  {
   "cell_type": "code",
   "execution_count": 22,
   "id": "06eeb221",
   "metadata": {},
   "outputs": [
    {
     "data": {
      "text/plain": [
       "'Remainding String Trusted'"
      ]
     },
     "execution_count": 22,
     "metadata": {},
     "output_type": "execute_result"
    }
   ],
   "source": [
    "text.title()"
   ]
  },
  {
   "cell_type": "code",
   "execution_count": 23,
   "id": "e482558c",
   "metadata": {},
   "outputs": [
    {
     "data": {
      "text/plain": [
       "'remainding string trusted'"
      ]
     },
     "execution_count": 23,
     "metadata": {},
     "output_type": "execute_result"
    }
   ],
   "source": [
    "text.lower()"
   ]
  },
  {
   "cell_type": "code",
   "execution_count": 24,
   "id": "631c9720",
   "metadata": {},
   "outputs": [
    {
     "data": {
      "text/plain": [
       "'Remainding String Trusted'"
      ]
     },
     "execution_count": 24,
     "metadata": {},
     "output_type": "execute_result"
    }
   ],
   "source": [
    "text"
   ]
  },
  {
   "cell_type": "code",
   "execution_count": 25,
   "id": "d68f798c",
   "metadata": {},
   "outputs": [
    {
     "data": {
      "text/plain": [
       "'rEMAINDING sTRING tRUSTED'"
      ]
     },
     "execution_count": 25,
     "metadata": {},
     "output_type": "execute_result"
    }
   ],
   "source": [
    "text.swapcase()"
   ]
  },
  {
   "cell_type": "code",
   "execution_count": 26,
   "id": "70cfd7e2",
   "metadata": {},
   "outputs": [
    {
     "data": {
      "text/plain": [
       "'RLmainding String TrustLd'"
      ]
     },
     "execution_count": 26,
     "metadata": {},
     "output_type": "execute_result"
    }
   ],
   "source": [
    "text.replace(\"e\",\"L\")"
   ]
  },
  {
   "cell_type": "code",
   "execution_count": 27,
   "id": "c6a8dcbc",
   "metadata": {},
   "outputs": [
    {
     "data": {
      "text/plain": [
       "'Remainding sTrİng Trusted'"
      ]
     },
     "execution_count": 27,
     "metadata": {},
     "output_type": "execute_result"
    }
   ],
   "source": [
    "text.replace(\"String\",\"sTrİng\")"
   ]
  },
  {
   "cell_type": "code",
   "execution_count": 28,
   "id": "07a759ea",
   "metadata": {},
   "outputs": [
    {
     "data": {
      "text/plain": [
       "'Remainding String Trusted'"
      ]
     },
     "execution_count": 28,
     "metadata": {},
     "output_type": "execute_result"
    }
   ],
   "source": [
    "text"
   ]
  },
  {
   "cell_type": "code",
   "execution_count": 29,
   "id": "572a274f",
   "metadata": {},
   "outputs": [
    {
     "data": {
      "text/plain": [
       "True"
      ]
     },
     "execution_count": 29,
     "metadata": {},
     "output_type": "execute_result"
    }
   ],
   "source": [
    "text.startswith(\"Rema\")"
   ]
  },
  {
   "cell_type": "code",
   "execution_count": 30,
   "id": "38e810a1",
   "metadata": {},
   "outputs": [
    {
     "data": {
      "text/plain": [
       "0"
      ]
     },
     "execution_count": 30,
     "metadata": {},
     "output_type": "execute_result"
    }
   ],
   "source": [
    "text.find(\"R\")"
   ]
  },
  {
   "cell_type": "code",
   "execution_count": 33,
   "id": "1350a4ce",
   "metadata": {},
   "outputs": [
    {
     "data": {
      "text/plain": [
       "2"
      ]
     },
     "execution_count": 33,
     "metadata": {},
     "output_type": "execute_result"
    }
   ],
   "source": [
    "text.count(\" \") "
   ]
  },
  {
   "cell_type": "code",
   "execution_count": 34,
   "id": "b3ba3a80",
   "metadata": {},
   "outputs": [
    {
     "data": {
      "text/plain": [
       "False"
      ]
     },
     "execution_count": 34,
     "metadata": {},
     "output_type": "execute_result"
    }
   ],
   "source": [
    "text.isalpha()"
   ]
  },
  {
   "cell_type": "code",
   "execution_count": 35,
   "id": "bd55ce7e",
   "metadata": {},
   "outputs": [
    {
     "data": {
      "text/plain": [
       "True"
      ]
     },
     "execution_count": 35,
     "metadata": {},
     "output_type": "execute_result"
    }
   ],
   "source": [
    "text.replace(\" \",\"\").isalpha()"
   ]
  },
  {
   "cell_type": "code",
   "execution_count": 37,
   "id": "57123b9e",
   "metadata": {},
   "outputs": [
    {
     "data": {
      "text/plain": [
       "'Remainding-String-Trusted'"
      ]
     },
     "execution_count": 37,
     "metadata": {},
     "output_type": "execute_result"
    }
   ],
   "source": [
    "text = text.replace(\" \",\"-\")\n",
    "text"
   ]
  },
  {
   "cell_type": "code",
   "execution_count": 42,
   "id": "2a6f387b",
   "metadata": {},
   "outputs": [
    {
     "data": {
      "text/plain": [
       "['Remainding', 'String', 'Trusted']"
      ]
     },
     "execution_count": 42,
     "metadata": {},
     "output_type": "execute_result"
    }
   ],
   "source": [
    "text.split(\"-\")"
   ]
  },
  {
   "cell_type": "code",
   "execution_count": 40,
   "id": "10136c04",
   "metadata": {},
   "outputs": [
    {
     "data": {
      "text/plain": [
       "'Remainding-String-Trusted'"
      ]
     },
     "execution_count": 40,
     "metadata": {},
     "output_type": "execute_result"
    }
   ],
   "source": [
    "text"
   ]
  },
  {
   "cell_type": "code",
   "execution_count": null,
   "id": "38aeb282",
   "metadata": {},
   "outputs": [],
   "source": []
  }
 ],
 "metadata": {
  "kernelspec": {
   "display_name": "Python 3 (ipykernel)",
   "language": "python",
   "name": "python3"
  },
  "language_info": {
   "codemirror_mode": {
    "name": "ipython",
    "version": 3
   },
   "file_extension": ".py",
   "mimetype": "text/x-python",
   "name": "python",
   "nbconvert_exporter": "python",
   "pygments_lexer": "ipython3",
   "version": "3.10.9"
  }
 },
 "nbformat": 4,
 "nbformat_minor": 5
}
